{
 "cells": [
  {
   "cell_type": "code",
   "execution_count": 1,
   "id": "deb2943e-dd9b-492b-a145-16334303f14f",
   "metadata": {},
   "outputs": [],
   "source": [
    "# Create a Jupyter Notebook where, in separate cells, you define functions that return sin(x) and cos(x).\n",
    "# Use Markdown cells to comment your Notebook, and describe what each function does.\n",
    "# Create a third Python cell that will tabulate sin(x) and cos(x) using these previously defined functions\n",
    "#     vs. x, where x is tabulated between 0 and 2 with a thousand entries. \n",
    "# Write a fourth Python cell that will use a for loop to print out the first 10 values of x, \n",
    "#     sin(x), and cos(x) in columns."
   ]
  },
  {
   "cell_type": "code",
   "execution_count": null,
   "id": "51703ab9-ff33-4b89-836f-f5d4817bdf61",
   "metadata": {},
   "outputs": [],
   "source": [
    "import numpy as np\n",
    "import matplotlib.pyplot as plt"
   ]
  },
  {
   "cell_type": "markdown",
   "id": "14ca78d0-0eda-473d-b5d9-f42f8cc86703",
   "metadata": {},
   "source": [
    "# below, I am defining a function that will return sin(x)"
   ]
  },
  {
   "cell_type": "code",
   "execution_count": 1,
   "id": "f72f647b-f537-4faa-9efc-67c7aa30f250",
   "metadata": {},
   "outputs": [],
   "source": [
    "def sin_function(x):\n",
    "    return np.sin(x)"
   ]
  },
  {
   "cell_type": "markdown",
   "id": "57d8d52c-f617-481e-954f-0b3b50242e5f",
   "metadata": {},
   "source": [
    "# below, I am defining a function that will return cos(x)"
   ]
  },
  {
   "cell_type": "code",
   "execution_count": 2,
   "id": "2c1d4539-f15e-4712-8193-a747e4a8e54b",
   "metadata": {},
   "outputs": [],
   "source": [
    "def cos_function(x):\n",
    "    return np.cos(x)"
   ]
  },
  {
   "cell_type": "markdown",
   "id": "46b9fa40-9764-42d7-ad85-ed7d794059b1",
   "metadata": {},
   "source": [
    "# below, I am tabulating sin(x) and cos(x) using the previously defined functions sin_function(x) and cos_function(x). x will be tabulated between 0 and 2 with 1000 entries"
   ]
  },
  {
   "cell_type": "code",
   "execution_count": 3,
   "id": "25aa98db-f555-44cc-80ba-06baf0c3bc48",
   "metadata": {},
   "outputs": [
    {
     "ename": "NameError",
     "evalue": "name 'np' is not defined",
     "output_type": "error",
     "traceback": [
      "\u001b[0;31m---------------------------------------------------------------------------\u001b[0m",
      "\u001b[0;31mNameError\u001b[0m                                 Traceback (most recent call last)",
      "Cell \u001b[0;32mIn[3], line 1\u001b[0m\n\u001b[0;32m----> 1\u001b[0m x \u001b[38;5;241m=\u001b[39m \u001b[43mnp\u001b[49m\u001b[38;5;241m.\u001b[39mlinspace(\u001b[38;5;241m0\u001b[39m, \u001b[38;5;241m2\u001b[39m, \u001b[38;5;241m1000\u001b[39m)\n\u001b[1;32m      2\u001b[0m y \u001b[38;5;241m=\u001b[39m np\u001b[38;5;241m.\u001b[39msin(x)\n\u001b[1;32m      3\u001b[0m z \u001b[38;5;241m=\u001b[39m np\u001b[38;5;241m.\u001b[39mcos(x)\n",
      "\u001b[0;31mNameError\u001b[0m: name 'np' is not defined"
     ]
    }
   ],
   "source": [
    "x = np.linspace(0, 2, 1000)\n",
    "y = np.sin(x)\n",
    "z = np.cos(x)\n",
    "    \n",
    "answer = np.zeros(shape=(1000,3))\n",
    "\n",
    "answer[:, 0] = x # this sets x as the first column of answer\n",
    "answer[:, 1] = y # this sets sin(x) as the second column of answer\n",
    "answer[:, 2] = z # this sets cos(x) as the third column of answer\n",
    "    \n",
    "print(answer)"
   ]
  },
  {
   "cell_type": "markdown",
   "id": "9a0fa0dd-25ff-49bc-9bf6-738a19306dbd",
   "metadata": {},
   "source": [
    "# below, I am printing out the first 10 values of x, sin(x), and cos(x) in columns"
   ]
  },
  {
   "cell_type": "code",
   "execution_count": 4,
   "id": "2bf68bc2-4931-4f4b-a24a-5b6e80151983",
   "metadata": {},
   "outputs": [
    {
     "name": "stdout",
     "output_type": "stream",
     "text": [
      "    x         sin(x)         cos(x)     \n"
     ]
    },
    {
     "ename": "NameError",
     "evalue": "name 'x' is not defined",
     "output_type": "error",
     "traceback": [
      "\u001b[0;31m---------------------------------------------------------------------------\u001b[0m",
      "\u001b[0;31mNameError\u001b[0m                                 Traceback (most recent call last)",
      "Cell \u001b[0;32mIn[4], line 3\u001b[0m\n\u001b[1;32m      1\u001b[0m \u001b[38;5;28mprint\u001b[39m(\u001b[38;5;124mf\u001b[39m\u001b[38;5;124m\"\u001b[39m\u001b[38;5;132;01m{\u001b[39;00m\u001b[38;5;124m'\u001b[39m\u001b[38;5;124mx\u001b[39m\u001b[38;5;124m'\u001b[39m\u001b[38;5;132;01m:\u001b[39;00m\u001b[38;5;124m^10\u001b[39m\u001b[38;5;132;01m}\u001b[39;00m\u001b[38;5;132;01m{\u001b[39;00m\u001b[38;5;124m'\u001b[39m\u001b[38;5;124msin(x)\u001b[39m\u001b[38;5;124m'\u001b[39m\u001b[38;5;132;01m:\u001b[39;00m\u001b[38;5;124m^15\u001b[39m\u001b[38;5;132;01m}\u001b[39;00m\u001b[38;5;132;01m{\u001b[39;00m\u001b[38;5;124m'\u001b[39m\u001b[38;5;124mcos(x)\u001b[39m\u001b[38;5;124m'\u001b[39m\u001b[38;5;132;01m:\u001b[39;00m\u001b[38;5;124m^15\u001b[39m\u001b[38;5;132;01m}\u001b[39;00m\u001b[38;5;124m\"\u001b[39m)\n\u001b[1;32m      2\u001b[0m \u001b[38;5;28;01mfor\u001b[39;00m i \u001b[38;5;129;01min\u001b[39;00m \u001b[38;5;28mrange\u001b[39m(\u001b[38;5;241m10\u001b[39m):\n\u001b[0;32m----> 3\u001b[0m     \u001b[38;5;28mprint\u001b[39m(\u001b[38;5;124mf\u001b[39m\u001b[38;5;124m\"\u001b[39m\u001b[38;5;132;01m{\u001b[39;00m\u001b[43mx\u001b[49m[i]\u001b[38;5;132;01m:\u001b[39;00m\u001b[38;5;124m<10.4f\u001b[39m\u001b[38;5;132;01m}\u001b[39;00m\u001b[38;5;132;01m{\u001b[39;00my[i]\u001b[38;5;132;01m:\u001b[39;00m\u001b[38;5;124m<15.4f\u001b[39m\u001b[38;5;132;01m}\u001b[39;00m\u001b[38;5;132;01m{\u001b[39;00mz[i]\u001b[38;5;132;01m:\u001b[39;00m\u001b[38;5;124m<15.4f\u001b[39m\u001b[38;5;132;01m}\u001b[39;00m\u001b[38;5;124m\"\u001b[39m)\n",
      "\u001b[0;31mNameError\u001b[0m: name 'x' is not defined"
     ]
    }
   ],
   "source": [
    "print(f\"{'x':^10}{'sin(x)':^15}{'cos(x)':^15}\")\n",
    "for i in range(10):\n",
    "    print(f\"{x[i]:<10.4f}{y[i]:<15.4f}{z[i]:<15.4f}\")"
   ]
  },
  {
   "cell_type": "code",
   "execution_count": null,
   "id": "7f676526-1042-4708-91b0-288b9600043d",
   "metadata": {},
   "outputs": [],
   "source": []
  }
 ],
 "metadata": {
  "kernelspec": {
   "display_name": "ASTR 19",
   "language": "python",
   "name": "astr19"
  },
  "language_info": {
   "codemirror_mode": {
    "name": "ipython",
    "version": 3
   },
   "file_extension": ".py",
   "mimetype": "text/x-python",
   "name": "python",
   "nbconvert_exporter": "python",
   "pygments_lexer": "ipython3",
   "version": "3.10.12"
  }
 },
 "nbformat": 4,
 "nbformat_minor": 5
}
