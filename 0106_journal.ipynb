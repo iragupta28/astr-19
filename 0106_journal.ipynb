{
 "cells": [
  {
   "cell_type": "code",
   "execution_count": 1,
   "id": "deb2943e-dd9b-492b-a145-16334303f14f",
   "metadata": {},
   "outputs": [],
   "source": [
    "# Create a Jupyter Notebook where, in separate cells, you define functions that return sin(x) and cos(x).\n",
    "# Use Markdown cells to comment your Notebook, and describe what each function does.\n",
    "# Create a third Python cell that will tabulate sin(x) and cos(x) using these previously defined functions\n",
    "#     vs. x, where x is tabulated between 0 and 2 with a thousand entries. \n",
    "# Write a fourth Python cell that will use a for loop to print out the first 10 values of x, \n",
    "#     sin(x), and cos(x) in columns."
   ]
  },
  {
   "cell_type": "code",
   "execution_count": 11,
   "id": "51703ab9-ff33-4b89-836f-f5d4817bdf61",
   "metadata": {},
   "outputs": [],
   "source": [
    "import numpy as np\n",
    "import matplotlib.pyplot as plt"
   ]
  },
  {
   "cell_type": "markdown",
   "id": "14ca78d0-0eda-473d-b5d9-f42f8cc86703",
   "metadata": {},
   "source": [
    "# below, I am defining a function that will return sin(x)"
   ]
  },
  {
   "cell_type": "code",
   "execution_count": 12,
   "id": "f72f647b-f537-4faa-9efc-67c7aa30f250",
   "metadata": {},
   "outputs": [],
   "source": [
    "def sin_function(x):\n",
    "    return np.sin(x)"
   ]
  },
  {
   "cell_type": "markdown",
   "id": "57d8d52c-f617-481e-954f-0b3b50242e5f",
   "metadata": {},
   "source": [
    "# below, I am defining a function that will return cos(x)"
   ]
  },
  {
   "cell_type": "code",
   "execution_count": 13,
   "id": "2c1d4539-f15e-4712-8193-a747e4a8e54b",
   "metadata": {},
   "outputs": [],
   "source": [
    "def cos_function(x):\n",
    "    return np.cos(x)"
   ]
  },
  {
   "cell_type": "markdown",
   "id": "46b9fa40-9764-42d7-ad85-ed7d794059b1",
   "metadata": {},
   "source": [
    "# below, I am tabulating sin(x) and cos(x) using the previously defined functions sin_function(x) and cos_function(x). x will be tabulated between 0 and 2 with 1000 entries"
   ]
  },
  {
   "cell_type": "code",
   "execution_count": 14,
   "id": "25aa98db-f555-44cc-80ba-06baf0c3bc48",
   "metadata": {},
   "outputs": [
    {
     "name": "stdout",
     "output_type": "stream",
     "text": [
      "[[ 0.          0.          1.        ]\n",
      " [ 0.002002    0.002002    0.999998  ]\n",
      " [ 0.004004    0.00400399  0.99999198]\n",
      " ...\n",
      " [ 1.995996    0.91095639 -0.41250268]\n",
      " [ 1.997998    0.91012873 -0.41432559]\n",
      " [ 2.          0.90929743 -0.41614684]]\n"
     ]
    }
   ],
   "source": [
    "x = np.linspace(0, 2, 1000)\n",
    "y = np.sin(x)\n",
    "z = np.cos(x)\n",
    "    \n",
    "answer = np.zeros(shape=(1000,3))\n",
    "\n",
    "answer[:, 0] = x # this sets x as the first column of answer\n",
    "answer[:, 1] = y # this sets sin(x) as the second column of answer\n",
    "answer[:, 2] = z # this sets cos(x) as the third column of answer\n",
    "    \n",
    "print(answer)"
   ]
  },
  {
   "cell_type": "markdown",
   "id": "9a0fa0dd-25ff-49bc-9bf6-738a19306dbd",
   "metadata": {},
   "source": [
    "# below, I am printing out the first 10 values of x, sin(x), and cos(x) in columns"
   ]
  },
  {
   "cell_type": "code",
   "execution_count": 15,
   "id": "2bf68bc2-4931-4f4b-a24a-5b6e80151983",
   "metadata": {},
   "outputs": [
    {
     "name": "stdout",
     "output_type": "stream",
     "text": [
      "    x         sin(x)         cos(x)     \n",
      "0.0000    0.0000         1.0000         \n",
      "0.0020    0.0020         1.0000         \n",
      "0.0040    0.0040         1.0000         \n",
      "0.0060    0.0060         1.0000         \n",
      "0.0080    0.0080         1.0000         \n",
      "0.0100    0.0100         0.9999         \n",
      "0.0120    0.0120         0.9999         \n",
      "0.0140    0.0140         0.9999         \n",
      "0.0160    0.0160         0.9999         \n",
      "0.0180    0.0180         0.9998         \n"
     ]
    }
   ],
   "source": [
    "print(f\"{'x':^10}{'sin(x)':^15}{'cos(x)':^15}\")\n",
    "for i in range(10):\n",
    "    print(f\"{x[i]:<10.4f}{y[i]:<15.4f}{z[i]:<15.4f}\")"
   ]
  },
  {
   "cell_type": "code",
   "execution_count": null,
   "id": "7f676526-1042-4708-91b0-288b9600043d",
   "metadata": {},
   "outputs": [],
   "source": []
  }
 ],
 "metadata": {
  "kernelspec": {
   "display_name": "ASTR 19",
   "language": "python",
   "name": "astr19"
  },
  "language_info": {
   "codemirror_mode": {
    "name": "ipython",
    "version": 3
   },
   "file_extension": ".py",
   "mimetype": "text/x-python",
   "name": "python",
   "nbconvert_exporter": "python",
   "pygments_lexer": "ipython3",
   "version": "3.10.12"
  }
 },
 "nbformat": 4,
 "nbformat_minor": 5
}
